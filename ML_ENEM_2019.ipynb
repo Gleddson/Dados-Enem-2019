{
  "nbformat": 4,
  "nbformat_minor": 0,
  "metadata": {
    "colab": {
      "name": "ML_ENEM_2019.ipynb",
      "provenance": []
    },
    "kernelspec": {
      "name": "python3",
      "display_name": "Python 3"
    }
  },
  "cells": [
    {
      "cell_type": "code",
      "metadata": {
        "id": "DdeiUJRK9xJh"
      },
      "source": [
        "import pandas as pd\n",
        "import seaborn as sns\n",
        "import matplotlib.pyplot as plt\n",
        "import numpy as np\n",
        "\n",
        "from sklearn.model_selection import train_test_split\n",
        "from sklearn.model_selection import cross_validate\n",
        "from sklearn.model_selection import KFold\n",
        "\n",
        "from sklearn.svm import LinearSVR\n",
        "from sklearn.dummy import DummyRegressor\n",
        "from sklearn.tree import DecisionTreeRegressor\n",
        "\n",
        "from sklearn.metrics import mean_squared_error"
      ],
      "execution_count": 238,
      "outputs": []
    },
    {
      "cell_type": "code",
      "metadata": {
        "id": "QzuJ_vtl9zde"
      },
      "source": [
        "fonte = \"https://github.com/alura-cursos/imersao-dados-2-2020/blob/master/MICRODADOS_ENEM_2019_SAMPLE_43278.csv?raw=true\"\n",
        "dados = pd.read_csv(fonte)"
      ],
      "execution_count": 75,
      "outputs": []
    },
    {
      "cell_type": "code",
      "metadata": {
        "id": "FuLRvN7D91br"
      },
      "source": [
        "provas = [\"NU_NOTA_CN\", \"NU_NOTA_CH\", \"NU_NOTA_MT\", \"NU_NOTA_LC\", \"NU_NOTA_REDACAO\"]"
      ],
      "execution_count": 103,
      "outputs": []
    },
    {
      "cell_type": "code",
      "metadata": {
        "id": "hQhRNch_961E",
        "outputId": "246cdd5d-118d-4691-b6e9-5dae0aecd711",
        "colab": {
          "base_uri": "https://localhost:8080/",
          "height": 246
        }
      },
      "source": [
        "dados[\"NU_NOTA_TOTAL\"] = dados[provas].sum(axis=1)\n",
        "dados.head()"
      ],
      "execution_count": 102,
      "outputs": [
        {
          "output_type": "execute_result",
          "data": {
            "text/html": [
              "<div>\n",
              "<style scoped>\n",
              "    .dataframe tbody tr th:only-of-type {\n",
              "        vertical-align: middle;\n",
              "    }\n",
              "\n",
              "    .dataframe tbody tr th {\n",
              "        vertical-align: top;\n",
              "    }\n",
              "\n",
              "    .dataframe thead th {\n",
              "        text-align: right;\n",
              "    }\n",
              "</style>\n",
              "<table border=\"1\" class=\"dataframe\">\n",
              "  <thead>\n",
              "    <tr style=\"text-align: right;\">\n",
              "      <th></th>\n",
              "      <th>NU_INSCRICAO</th>\n",
              "      <th>NU_ANO</th>\n",
              "      <th>CO_MUNICIPIO_RESIDENCIA</th>\n",
              "      <th>NO_MUNICIPIO_RESIDENCIA</th>\n",
              "      <th>CO_UF_RESIDENCIA</th>\n",
              "      <th>SG_UF_RESIDENCIA</th>\n",
              "      <th>NU_IDADE</th>\n",
              "      <th>TP_SEXO</th>\n",
              "      <th>TP_ESTADO_CIVIL</th>\n",
              "      <th>TP_COR_RACA</th>\n",
              "      <th>TP_NACIONALIDADE</th>\n",
              "      <th>CO_MUNICIPIO_NASCIMENTO</th>\n",
              "      <th>NO_MUNICIPIO_NASCIMENTO</th>\n",
              "      <th>CO_UF_NASCIMENTO</th>\n",
              "      <th>SG_UF_NASCIMENTO</th>\n",
              "      <th>TP_ST_CONCLUSAO</th>\n",
              "      <th>TP_ANO_CONCLUIU</th>\n",
              "      <th>TP_ESCOLA</th>\n",
              "      <th>TP_ENSINO</th>\n",
              "      <th>IN_TREINEIRO</th>\n",
              "      <th>CO_ESCOLA</th>\n",
              "      <th>CO_MUNICIPIO_ESC</th>\n",
              "      <th>NO_MUNICIPIO_ESC</th>\n",
              "      <th>CO_UF_ESC</th>\n",
              "      <th>SG_UF_ESC</th>\n",
              "      <th>TP_DEPENDENCIA_ADM_ESC</th>\n",
              "      <th>TP_LOCALIZACAO_ESC</th>\n",
              "      <th>TP_SIT_FUNC_ESC</th>\n",
              "      <th>IN_BAIXA_VISAO</th>\n",
              "      <th>IN_CEGUEIRA</th>\n",
              "      <th>IN_SURDEZ</th>\n",
              "      <th>IN_DEFICIENCIA_AUDITIVA</th>\n",
              "      <th>IN_SURDO_CEGUEIRA</th>\n",
              "      <th>IN_DEFICIENCIA_FISICA</th>\n",
              "      <th>IN_DEFICIENCIA_MENTAL</th>\n",
              "      <th>IN_DEFICIT_ATENCAO</th>\n",
              "      <th>IN_DISLEXIA</th>\n",
              "      <th>IN_DISCALCULIA</th>\n",
              "      <th>IN_AUTISMO</th>\n",
              "      <th>IN_VISAO_MONOCULAR</th>\n",
              "      <th>...</th>\n",
              "      <th>TX_RESPOSTAS_LC</th>\n",
              "      <th>TX_RESPOSTAS_MT</th>\n",
              "      <th>TP_LINGUA</th>\n",
              "      <th>TX_GABARITO_CN</th>\n",
              "      <th>TX_GABARITO_CH</th>\n",
              "      <th>TX_GABARITO_LC</th>\n",
              "      <th>TX_GABARITO_MT</th>\n",
              "      <th>TP_STATUS_REDACAO</th>\n",
              "      <th>NU_NOTA_COMP1</th>\n",
              "      <th>NU_NOTA_COMP2</th>\n",
              "      <th>NU_NOTA_COMP3</th>\n",
              "      <th>NU_NOTA_COMP4</th>\n",
              "      <th>NU_NOTA_COMP5</th>\n",
              "      <th>NU_NOTA_REDACAO</th>\n",
              "      <th>Q001</th>\n",
              "      <th>Q002</th>\n",
              "      <th>Q003</th>\n",
              "      <th>Q004</th>\n",
              "      <th>Q005</th>\n",
              "      <th>Q006</th>\n",
              "      <th>Q007</th>\n",
              "      <th>Q008</th>\n",
              "      <th>Q009</th>\n",
              "      <th>Q010</th>\n",
              "      <th>Q011</th>\n",
              "      <th>Q012</th>\n",
              "      <th>Q013</th>\n",
              "      <th>Q014</th>\n",
              "      <th>Q015</th>\n",
              "      <th>Q016</th>\n",
              "      <th>Q017</th>\n",
              "      <th>Q018</th>\n",
              "      <th>Q019</th>\n",
              "      <th>Q020</th>\n",
              "      <th>Q021</th>\n",
              "      <th>Q022</th>\n",
              "      <th>Q023</th>\n",
              "      <th>Q024</th>\n",
              "      <th>Q025</th>\n",
              "      <th>NU_NOTA_TOTAL</th>\n",
              "    </tr>\n",
              "  </thead>\n",
              "  <tbody>\n",
              "    <tr>\n",
              "      <th>0</th>\n",
              "      <td>190001004661</td>\n",
              "      <td>2019</td>\n",
              "      <td>1506138</td>\n",
              "      <td>Redenção</td>\n",
              "      <td>15</td>\n",
              "      <td>PA</td>\n",
              "      <td>17</td>\n",
              "      <td>M</td>\n",
              "      <td>1</td>\n",
              "      <td>3</td>\n",
              "      <td>1</td>\n",
              "      <td>1506138.0</td>\n",
              "      <td>Redenção</td>\n",
              "      <td>15.0</td>\n",
              "      <td>PA</td>\n",
              "      <td>3</td>\n",
              "      <td>0</td>\n",
              "      <td>1</td>\n",
              "      <td>NaN</td>\n",
              "      <td>1</td>\n",
              "      <td>NaN</td>\n",
              "      <td>NaN</td>\n",
              "      <td>NaN</td>\n",
              "      <td>NaN</td>\n",
              "      <td>NaN</td>\n",
              "      <td>NaN</td>\n",
              "      <td>NaN</td>\n",
              "      <td>NaN</td>\n",
              "      <td>0</td>\n",
              "      <td>0</td>\n",
              "      <td>0</td>\n",
              "      <td>0</td>\n",
              "      <td>0</td>\n",
              "      <td>0</td>\n",
              "      <td>0</td>\n",
              "      <td>0</td>\n",
              "      <td>0</td>\n",
              "      <td>0</td>\n",
              "      <td>0</td>\n",
              "      <td>0</td>\n",
              "      <td>...</td>\n",
              "      <td>99999CCCABBCAADDBCEBCCADBEEBDECBAABDEACACAEABB...</td>\n",
              "      <td>DEEDCAECDDEEECBCBECABEBAECBBCDAECAEBBBBBDCCDB</td>\n",
              "      <td>1</td>\n",
              "      <td>DEADBAAAEBEECEBCBCBCBDADAEABCEDDDDADCBEECACBC</td>\n",
              "      <td>ACACEEBCCBABADBBBACDBBACCCCADCEBADCBEEDBBEADB</td>\n",
              "      <td>EBBADCABDABACBCEBDEEAAADDBECDECDDBADBCDAAECBCC...</td>\n",
              "      <td>AADDDBEEEBEDDBEBACABCDBABECECACAECDCBDCCEDCDA</td>\n",
              "      <td>1.0</td>\n",
              "      <td>60.0</td>\n",
              "      <td>100.0</td>\n",
              "      <td>80.0</td>\n",
              "      <td>80.0</td>\n",
              "      <td>100.0</td>\n",
              "      <td>420.0</td>\n",
              "      <td>B</td>\n",
              "      <td>B</td>\n",
              "      <td>A</td>\n",
              "      <td>A</td>\n",
              "      <td>4</td>\n",
              "      <td>B</td>\n",
              "      <td>A</td>\n",
              "      <td>C</td>\n",
              "      <td>B</td>\n",
              "      <td>A</td>\n",
              "      <td>C</td>\n",
              "      <td>B</td>\n",
              "      <td>A</td>\n",
              "      <td>A</td>\n",
              "      <td>A</td>\n",
              "      <td>A</td>\n",
              "      <td>A</td>\n",
              "      <td>A</td>\n",
              "      <td>A</td>\n",
              "      <td>B</td>\n",
              "      <td>A</td>\n",
              "      <td>C</td>\n",
              "      <td>A</td>\n",
              "      <td>B</td>\n",
              "      <td>B</td>\n",
              "      <td>2288.9</td>\n",
              "    </tr>\n",
              "    <tr>\n",
              "      <th>1</th>\n",
              "      <td>190001004674</td>\n",
              "      <td>2019</td>\n",
              "      <td>1504208</td>\n",
              "      <td>Marabá</td>\n",
              "      <td>15</td>\n",
              "      <td>PA</td>\n",
              "      <td>23</td>\n",
              "      <td>M</td>\n",
              "      <td>1</td>\n",
              "      <td>3</td>\n",
              "      <td>1</td>\n",
              "      <td>1504208.0</td>\n",
              "      <td>Marabá</td>\n",
              "      <td>15.0</td>\n",
              "      <td>PA</td>\n",
              "      <td>1</td>\n",
              "      <td>3</td>\n",
              "      <td>1</td>\n",
              "      <td>1.0</td>\n",
              "      <td>0</td>\n",
              "      <td>NaN</td>\n",
              "      <td>NaN</td>\n",
              "      <td>NaN</td>\n",
              "      <td>NaN</td>\n",
              "      <td>NaN</td>\n",
              "      <td>NaN</td>\n",
              "      <td>NaN</td>\n",
              "      <td>NaN</td>\n",
              "      <td>0</td>\n",
              "      <td>0</td>\n",
              "      <td>0</td>\n",
              "      <td>0</td>\n",
              "      <td>0</td>\n",
              "      <td>0</td>\n",
              "      <td>0</td>\n",
              "      <td>0</td>\n",
              "      <td>0</td>\n",
              "      <td>0</td>\n",
              "      <td>0</td>\n",
              "      <td>0</td>\n",
              "      <td>...</td>\n",
              "      <td>99999ABCEBCEDDECEEEBBCCEECCABDABEEBCDEAEBBEAEA...</td>\n",
              "      <td>NaN</td>\n",
              "      <td>1</td>\n",
              "      <td>NaN</td>\n",
              "      <td>CBABADBBCEEEBCBADCBEEDBBEADBBACDBBACCCCADACAC</td>\n",
              "      <td>BBEDABDACACBABAECBBCCADCEBDBBCDDEEAAADDBECDECA...</td>\n",
              "      <td>NaN</td>\n",
              "      <td>1.0</td>\n",
              "      <td>80.0</td>\n",
              "      <td>100.0</td>\n",
              "      <td>80.0</td>\n",
              "      <td>80.0</td>\n",
              "      <td>60.0</td>\n",
              "      <td>400.0</td>\n",
              "      <td>C</td>\n",
              "      <td>C</td>\n",
              "      <td>A</td>\n",
              "      <td>A</td>\n",
              "      <td>4</td>\n",
              "      <td>B</td>\n",
              "      <td>A</td>\n",
              "      <td>B</td>\n",
              "      <td>C</td>\n",
              "      <td>A</td>\n",
              "      <td>A</td>\n",
              "      <td>B</td>\n",
              "      <td>B</td>\n",
              "      <td>B</td>\n",
              "      <td>A</td>\n",
              "      <td>A</td>\n",
              "      <td>A</td>\n",
              "      <td>A</td>\n",
              "      <td>B</td>\n",
              "      <td>A</td>\n",
              "      <td>A</td>\n",
              "      <td>B</td>\n",
              "      <td>A</td>\n",
              "      <td>A</td>\n",
              "      <td>B</td>\n",
              "      <td>1184.6</td>\n",
              "    </tr>\n",
              "    <tr>\n",
              "      <th>2</th>\n",
              "      <td>190001004722</td>\n",
              "      <td>2019</td>\n",
              "      <td>1501402</td>\n",
              "      <td>Belém</td>\n",
              "      <td>15</td>\n",
              "      <td>PA</td>\n",
              "      <td>35</td>\n",
              "      <td>F</td>\n",
              "      <td>2</td>\n",
              "      <td>1</td>\n",
              "      <td>1</td>\n",
              "      <td>1501402.0</td>\n",
              "      <td>Belém</td>\n",
              "      <td>15.0</td>\n",
              "      <td>PA</td>\n",
              "      <td>1</td>\n",
              "      <td>12</td>\n",
              "      <td>1</td>\n",
              "      <td>1.0</td>\n",
              "      <td>0</td>\n",
              "      <td>NaN</td>\n",
              "      <td>NaN</td>\n",
              "      <td>NaN</td>\n",
              "      <td>NaN</td>\n",
              "      <td>NaN</td>\n",
              "      <td>NaN</td>\n",
              "      <td>NaN</td>\n",
              "      <td>NaN</td>\n",
              "      <td>0</td>\n",
              "      <td>0</td>\n",
              "      <td>0</td>\n",
              "      <td>0</td>\n",
              "      <td>0</td>\n",
              "      <td>0</td>\n",
              "      <td>0</td>\n",
              "      <td>0</td>\n",
              "      <td>0</td>\n",
              "      <td>0</td>\n",
              "      <td>0</td>\n",
              "      <td>0</td>\n",
              "      <td>...</td>\n",
              "      <td>99999ECBCECEBBABECCCECECCEECCDECEEEDADDDDECEDD...</td>\n",
              "      <td>DDBEADEBBCADCEEACABECBCEBADECADCEDAACBDABABCE</td>\n",
              "      <td>1</td>\n",
              "      <td>AAECACDEADCBCDDDBCBDADAEABCEBABEEBCBEECEBDADC</td>\n",
              "      <td>CBABADBBCEEEBCBADCBEEDBBEADBBACDBBACCCCADACAC</td>\n",
              "      <td>BBEDABDACACBABAECBBCCADCEBDBBCDDEEAAADDBECDECA...</td>\n",
              "      <td>EEEADBEBACABCDBABECECACDCBDCCEDCDABEDECDDDBAA</td>\n",
              "      <td>1.0</td>\n",
              "      <td>100.0</td>\n",
              "      <td>120.0</td>\n",
              "      <td>120.0</td>\n",
              "      <td>100.0</td>\n",
              "      <td>120.0</td>\n",
              "      <td>560.0</td>\n",
              "      <td>C</td>\n",
              "      <td>A</td>\n",
              "      <td>B</td>\n",
              "      <td>B</td>\n",
              "      <td>5</td>\n",
              "      <td>C</td>\n",
              "      <td>A</td>\n",
              "      <td>B</td>\n",
              "      <td>C</td>\n",
              "      <td>A</td>\n",
              "      <td>A</td>\n",
              "      <td>B</td>\n",
              "      <td>A</td>\n",
              "      <td>B</td>\n",
              "      <td>A</td>\n",
              "      <td>A</td>\n",
              "      <td>A</td>\n",
              "      <td>A</td>\n",
              "      <td>B</td>\n",
              "      <td>A</td>\n",
              "      <td>B</td>\n",
              "      <td>B</td>\n",
              "      <td>A</td>\n",
              "      <td>A</td>\n",
              "      <td>B</td>\n",
              "      <td>2350.5</td>\n",
              "    </tr>\n",
              "    <tr>\n",
              "      <th>3</th>\n",
              "      <td>190001004735</td>\n",
              "      <td>2019</td>\n",
              "      <td>1507300</td>\n",
              "      <td>São Félix do Xingu</td>\n",
              "      <td>15</td>\n",
              "      <td>PA</td>\n",
              "      <td>23</td>\n",
              "      <td>F</td>\n",
              "      <td>1</td>\n",
              "      <td>3</td>\n",
              "      <td>1</td>\n",
              "      <td>1505437.0</td>\n",
              "      <td>Ourilândia do Norte</td>\n",
              "      <td>15.0</td>\n",
              "      <td>PA</td>\n",
              "      <td>1</td>\n",
              "      <td>7</td>\n",
              "      <td>1</td>\n",
              "      <td>NaN</td>\n",
              "      <td>0</td>\n",
              "      <td>NaN</td>\n",
              "      <td>NaN</td>\n",
              "      <td>NaN</td>\n",
              "      <td>NaN</td>\n",
              "      <td>NaN</td>\n",
              "      <td>NaN</td>\n",
              "      <td>NaN</td>\n",
              "      <td>NaN</td>\n",
              "      <td>0</td>\n",
              "      <td>0</td>\n",
              "      <td>0</td>\n",
              "      <td>0</td>\n",
              "      <td>0</td>\n",
              "      <td>0</td>\n",
              "      <td>0</td>\n",
              "      <td>0</td>\n",
              "      <td>0</td>\n",
              "      <td>0</td>\n",
              "      <td>0</td>\n",
              "      <td>0</td>\n",
              "      <td>...</td>\n",
              "      <td>99999BABCDABBCBDDAAECADBDDADDCBCEEDCAEBCEAEABD...</td>\n",
              "      <td>CBDEBBCBDEBCABCDBDEDADCCBEDBCAECEBEBDEBAEECBC</td>\n",
              "      <td>1</td>\n",
              "      <td>BEEAAEBEEBADEADDADAEABCEDDDBCBCBCCACBCDADCCEB</td>\n",
              "      <td>EEBCEEDBADBBCBABCCADCEBACDBBACCACACBEADBBADCB</td>\n",
              "      <td>ADBBEDCABAABBCBCDAAECDDDBAAAECADECDCEBDEEAECBD...</td>\n",
              "      <td>BEDEEEAADBEBACABCDBABECECACADCBDCCEDCDABECDDD</td>\n",
              "      <td>1.0</td>\n",
              "      <td>100.0</td>\n",
              "      <td>120.0</td>\n",
              "      <td>120.0</td>\n",
              "      <td>120.0</td>\n",
              "      <td>40.0</td>\n",
              "      <td>500.0</td>\n",
              "      <td>E</td>\n",
              "      <td>C</td>\n",
              "      <td>A</td>\n",
              "      <td>A</td>\n",
              "      <td>1</td>\n",
              "      <td>B</td>\n",
              "      <td>A</td>\n",
              "      <td>B</td>\n",
              "      <td>C</td>\n",
              "      <td>A</td>\n",
              "      <td>A</td>\n",
              "      <td>B</td>\n",
              "      <td>A</td>\n",
              "      <td>A</td>\n",
              "      <td>A</td>\n",
              "      <td>A</td>\n",
              "      <td>A</td>\n",
              "      <td>A</td>\n",
              "      <td>B</td>\n",
              "      <td>A</td>\n",
              "      <td>A</td>\n",
              "      <td>B</td>\n",
              "      <td>A</td>\n",
              "      <td>A</td>\n",
              "      <td>B</td>\n",
              "      <td>2555.7</td>\n",
              "    </tr>\n",
              "    <tr>\n",
              "      <th>4</th>\n",
              "      <td>190001004776</td>\n",
              "      <td>2019</td>\n",
              "      <td>1500800</td>\n",
              "      <td>Ananindeua</td>\n",
              "      <td>15</td>\n",
              "      <td>PA</td>\n",
              "      <td>16</td>\n",
              "      <td>F</td>\n",
              "      <td>1</td>\n",
              "      <td>3</td>\n",
              "      <td>1</td>\n",
              "      <td>1500800.0</td>\n",
              "      <td>Ananindeua</td>\n",
              "      <td>15.0</td>\n",
              "      <td>PA</td>\n",
              "      <td>3</td>\n",
              "      <td>0</td>\n",
              "      <td>1</td>\n",
              "      <td>NaN</td>\n",
              "      <td>1</td>\n",
              "      <td>NaN</td>\n",
              "      <td>NaN</td>\n",
              "      <td>NaN</td>\n",
              "      <td>NaN</td>\n",
              "      <td>NaN</td>\n",
              "      <td>NaN</td>\n",
              "      <td>NaN</td>\n",
              "      <td>NaN</td>\n",
              "      <td>0</td>\n",
              "      <td>0</td>\n",
              "      <td>0</td>\n",
              "      <td>0</td>\n",
              "      <td>0</td>\n",
              "      <td>0</td>\n",
              "      <td>0</td>\n",
              "      <td>0</td>\n",
              "      <td>0</td>\n",
              "      <td>0</td>\n",
              "      <td>0</td>\n",
              "      <td>0</td>\n",
              "      <td>...</td>\n",
              "      <td>EBCAB99999BBCECBCACBEACBDAABDBCBBDACEBBACDCAEC...</td>\n",
              "      <td>AECCBBCBBCBDEDECACBAABEDABBEDDADCEADDBEBDBBEB</td>\n",
              "      <td>0</td>\n",
              "      <td>DEADBAAAEBEECEBCBCBCBDADAEABCEDDDDADCBEECACBC</td>\n",
              "      <td>ACACEEBCCBABADBBBACDBBACCCCADCEBADCBEEDBBEADB</td>\n",
              "      <td>EBBADCABDABACBCEBDEEAAADDBECDECDDBADBCDAAECBCC...</td>\n",
              "      <td>AADDDBEEEBEDDBEBACABCDBABECECACAECDCBDCCEDCDA</td>\n",
              "      <td>1.0</td>\n",
              "      <td>160.0</td>\n",
              "      <td>140.0</td>\n",
              "      <td>160.0</td>\n",
              "      <td>160.0</td>\n",
              "      <td>160.0</td>\n",
              "      <td>780.0</td>\n",
              "      <td>E</td>\n",
              "      <td>E</td>\n",
              "      <td>B</td>\n",
              "      <td>D</td>\n",
              "      <td>3</td>\n",
              "      <td>E</td>\n",
              "      <td>A</td>\n",
              "      <td>B</td>\n",
              "      <td>C</td>\n",
              "      <td>B</td>\n",
              "      <td>A</td>\n",
              "      <td>B</td>\n",
              "      <td>A</td>\n",
              "      <td>A</td>\n",
              "      <td>A</td>\n",
              "      <td>A</td>\n",
              "      <td>A</td>\n",
              "      <td>A</td>\n",
              "      <td>B</td>\n",
              "      <td>A</td>\n",
              "      <td>A</td>\n",
              "      <td>D</td>\n",
              "      <td>A</td>\n",
              "      <td>A</td>\n",
              "      <td>B</td>\n",
              "      <td>2803.5</td>\n",
              "    </tr>\n",
              "  </tbody>\n",
              "</table>\n",
              "<p>5 rows × 137 columns</p>\n",
              "</div>"
            ],
            "text/plain": [
              "   NU_INSCRICAO  NU_ANO  CO_MUNICIPIO_RESIDENCIA  ... Q024  Q025 NU_NOTA_TOTAL\n",
              "0  190001004661    2019                  1506138  ...    B     B        2288.9\n",
              "1  190001004674    2019                  1504208  ...    A     B        1184.6\n",
              "2  190001004722    2019                  1501402  ...    A     B        2350.5\n",
              "3  190001004735    2019                  1507300  ...    A     B        2555.7\n",
              "4  190001004776    2019                  1500800  ...    A     B        2803.5\n",
              "\n",
              "[5 rows x 137 columns]"
            ]
          },
          "metadata": {
            "tags": []
          },
          "execution_count": 102
        }
      ]
    },
    {
      "cell_type": "code",
      "metadata": {
        "id": "5SatKgdQ98iV",
        "outputId": "48231d86-74ac-4713-fc83-f445e97c7962",
        "colab": {
          "base_uri": "https://localhost:8080/",
          "height": 246
        }
      },
      "source": [
        "dados_sem_nota_zero = dados.query(\"NU_NOTA_TOTAL != 0\")\n",
        "dados_sem_nota_zero.head()"
      ],
      "execution_count": 104,
      "outputs": [
        {
          "output_type": "execute_result",
          "data": {
            "text/html": [
              "<div>\n",
              "<style scoped>\n",
              "    .dataframe tbody tr th:only-of-type {\n",
              "        vertical-align: middle;\n",
              "    }\n",
              "\n",
              "    .dataframe tbody tr th {\n",
              "        vertical-align: top;\n",
              "    }\n",
              "\n",
              "    .dataframe thead th {\n",
              "        text-align: right;\n",
              "    }\n",
              "</style>\n",
              "<table border=\"1\" class=\"dataframe\">\n",
              "  <thead>\n",
              "    <tr style=\"text-align: right;\">\n",
              "      <th></th>\n",
              "      <th>NU_INSCRICAO</th>\n",
              "      <th>NU_ANO</th>\n",
              "      <th>CO_MUNICIPIO_RESIDENCIA</th>\n",
              "      <th>NO_MUNICIPIO_RESIDENCIA</th>\n",
              "      <th>CO_UF_RESIDENCIA</th>\n",
              "      <th>SG_UF_RESIDENCIA</th>\n",
              "      <th>NU_IDADE</th>\n",
              "      <th>TP_SEXO</th>\n",
              "      <th>TP_ESTADO_CIVIL</th>\n",
              "      <th>TP_COR_RACA</th>\n",
              "      <th>TP_NACIONALIDADE</th>\n",
              "      <th>CO_MUNICIPIO_NASCIMENTO</th>\n",
              "      <th>NO_MUNICIPIO_NASCIMENTO</th>\n",
              "      <th>CO_UF_NASCIMENTO</th>\n",
              "      <th>SG_UF_NASCIMENTO</th>\n",
              "      <th>TP_ST_CONCLUSAO</th>\n",
              "      <th>TP_ANO_CONCLUIU</th>\n",
              "      <th>TP_ESCOLA</th>\n",
              "      <th>TP_ENSINO</th>\n",
              "      <th>IN_TREINEIRO</th>\n",
              "      <th>CO_ESCOLA</th>\n",
              "      <th>CO_MUNICIPIO_ESC</th>\n",
              "      <th>NO_MUNICIPIO_ESC</th>\n",
              "      <th>CO_UF_ESC</th>\n",
              "      <th>SG_UF_ESC</th>\n",
              "      <th>TP_DEPENDENCIA_ADM_ESC</th>\n",
              "      <th>TP_LOCALIZACAO_ESC</th>\n",
              "      <th>TP_SIT_FUNC_ESC</th>\n",
              "      <th>IN_BAIXA_VISAO</th>\n",
              "      <th>IN_CEGUEIRA</th>\n",
              "      <th>IN_SURDEZ</th>\n",
              "      <th>IN_DEFICIENCIA_AUDITIVA</th>\n",
              "      <th>IN_SURDO_CEGUEIRA</th>\n",
              "      <th>IN_DEFICIENCIA_FISICA</th>\n",
              "      <th>IN_DEFICIENCIA_MENTAL</th>\n",
              "      <th>IN_DEFICIT_ATENCAO</th>\n",
              "      <th>IN_DISLEXIA</th>\n",
              "      <th>IN_DISCALCULIA</th>\n",
              "      <th>IN_AUTISMO</th>\n",
              "      <th>IN_VISAO_MONOCULAR</th>\n",
              "      <th>...</th>\n",
              "      <th>TX_RESPOSTAS_LC</th>\n",
              "      <th>TX_RESPOSTAS_MT</th>\n",
              "      <th>TP_LINGUA</th>\n",
              "      <th>TX_GABARITO_CN</th>\n",
              "      <th>TX_GABARITO_CH</th>\n",
              "      <th>TX_GABARITO_LC</th>\n",
              "      <th>TX_GABARITO_MT</th>\n",
              "      <th>TP_STATUS_REDACAO</th>\n",
              "      <th>NU_NOTA_COMP1</th>\n",
              "      <th>NU_NOTA_COMP2</th>\n",
              "      <th>NU_NOTA_COMP3</th>\n",
              "      <th>NU_NOTA_COMP4</th>\n",
              "      <th>NU_NOTA_COMP5</th>\n",
              "      <th>NU_NOTA_REDACAO</th>\n",
              "      <th>Q001</th>\n",
              "      <th>Q002</th>\n",
              "      <th>Q003</th>\n",
              "      <th>Q004</th>\n",
              "      <th>Q005</th>\n",
              "      <th>Q006</th>\n",
              "      <th>Q007</th>\n",
              "      <th>Q008</th>\n",
              "      <th>Q009</th>\n",
              "      <th>Q010</th>\n",
              "      <th>Q011</th>\n",
              "      <th>Q012</th>\n",
              "      <th>Q013</th>\n",
              "      <th>Q014</th>\n",
              "      <th>Q015</th>\n",
              "      <th>Q016</th>\n",
              "      <th>Q017</th>\n",
              "      <th>Q018</th>\n",
              "      <th>Q019</th>\n",
              "      <th>Q020</th>\n",
              "      <th>Q021</th>\n",
              "      <th>Q022</th>\n",
              "      <th>Q023</th>\n",
              "      <th>Q024</th>\n",
              "      <th>Q025</th>\n",
              "      <th>NU_NOTA_TOTAL</th>\n",
              "    </tr>\n",
              "  </thead>\n",
              "  <tbody>\n",
              "    <tr>\n",
              "      <th>0</th>\n",
              "      <td>190001004661</td>\n",
              "      <td>2019</td>\n",
              "      <td>1506138</td>\n",
              "      <td>Redenção</td>\n",
              "      <td>15</td>\n",
              "      <td>PA</td>\n",
              "      <td>17</td>\n",
              "      <td>M</td>\n",
              "      <td>1</td>\n",
              "      <td>3</td>\n",
              "      <td>1</td>\n",
              "      <td>1506138.0</td>\n",
              "      <td>Redenção</td>\n",
              "      <td>15.0</td>\n",
              "      <td>PA</td>\n",
              "      <td>3</td>\n",
              "      <td>0</td>\n",
              "      <td>1</td>\n",
              "      <td>NaN</td>\n",
              "      <td>1</td>\n",
              "      <td>NaN</td>\n",
              "      <td>NaN</td>\n",
              "      <td>NaN</td>\n",
              "      <td>NaN</td>\n",
              "      <td>NaN</td>\n",
              "      <td>NaN</td>\n",
              "      <td>NaN</td>\n",
              "      <td>NaN</td>\n",
              "      <td>0</td>\n",
              "      <td>0</td>\n",
              "      <td>0</td>\n",
              "      <td>0</td>\n",
              "      <td>0</td>\n",
              "      <td>0</td>\n",
              "      <td>0</td>\n",
              "      <td>0</td>\n",
              "      <td>0</td>\n",
              "      <td>0</td>\n",
              "      <td>0</td>\n",
              "      <td>0</td>\n",
              "      <td>...</td>\n",
              "      <td>99999CCCABBCAADDBCEBCCADBEEBDECBAABDEACACAEABB...</td>\n",
              "      <td>DEEDCAECDDEEECBCBECABEBAECBBCDAECAEBBBBBDCCDB</td>\n",
              "      <td>1</td>\n",
              "      <td>DEADBAAAEBEECEBCBCBCBDADAEABCEDDDDADCBEECACBC</td>\n",
              "      <td>ACACEEBCCBABADBBBACDBBACCCCADCEBADCBEEDBBEADB</td>\n",
              "      <td>EBBADCABDABACBCEBDEEAAADDBECDECDDBADBCDAAECBCC...</td>\n",
              "      <td>AADDDBEEEBEDDBEBACABCDBABECECACAECDCBDCCEDCDA</td>\n",
              "      <td>1.0</td>\n",
              "      <td>60.0</td>\n",
              "      <td>100.0</td>\n",
              "      <td>80.0</td>\n",
              "      <td>80.0</td>\n",
              "      <td>100.0</td>\n",
              "      <td>420.0</td>\n",
              "      <td>B</td>\n",
              "      <td>B</td>\n",
              "      <td>A</td>\n",
              "      <td>A</td>\n",
              "      <td>4</td>\n",
              "      <td>B</td>\n",
              "      <td>A</td>\n",
              "      <td>C</td>\n",
              "      <td>B</td>\n",
              "      <td>A</td>\n",
              "      <td>C</td>\n",
              "      <td>B</td>\n",
              "      <td>A</td>\n",
              "      <td>A</td>\n",
              "      <td>A</td>\n",
              "      <td>A</td>\n",
              "      <td>A</td>\n",
              "      <td>A</td>\n",
              "      <td>A</td>\n",
              "      <td>B</td>\n",
              "      <td>A</td>\n",
              "      <td>C</td>\n",
              "      <td>A</td>\n",
              "      <td>B</td>\n",
              "      <td>B</td>\n",
              "      <td>2288.9</td>\n",
              "    </tr>\n",
              "    <tr>\n",
              "      <th>1</th>\n",
              "      <td>190001004674</td>\n",
              "      <td>2019</td>\n",
              "      <td>1504208</td>\n",
              "      <td>Marabá</td>\n",
              "      <td>15</td>\n",
              "      <td>PA</td>\n",
              "      <td>23</td>\n",
              "      <td>M</td>\n",
              "      <td>1</td>\n",
              "      <td>3</td>\n",
              "      <td>1</td>\n",
              "      <td>1504208.0</td>\n",
              "      <td>Marabá</td>\n",
              "      <td>15.0</td>\n",
              "      <td>PA</td>\n",
              "      <td>1</td>\n",
              "      <td>3</td>\n",
              "      <td>1</td>\n",
              "      <td>1.0</td>\n",
              "      <td>0</td>\n",
              "      <td>NaN</td>\n",
              "      <td>NaN</td>\n",
              "      <td>NaN</td>\n",
              "      <td>NaN</td>\n",
              "      <td>NaN</td>\n",
              "      <td>NaN</td>\n",
              "      <td>NaN</td>\n",
              "      <td>NaN</td>\n",
              "      <td>0</td>\n",
              "      <td>0</td>\n",
              "      <td>0</td>\n",
              "      <td>0</td>\n",
              "      <td>0</td>\n",
              "      <td>0</td>\n",
              "      <td>0</td>\n",
              "      <td>0</td>\n",
              "      <td>0</td>\n",
              "      <td>0</td>\n",
              "      <td>0</td>\n",
              "      <td>0</td>\n",
              "      <td>...</td>\n",
              "      <td>99999ABCEBCEDDECEEEBBCCEECCABDABEEBCDEAEBBEAEA...</td>\n",
              "      <td>NaN</td>\n",
              "      <td>1</td>\n",
              "      <td>NaN</td>\n",
              "      <td>CBABADBBCEEEBCBADCBEEDBBEADBBACDBBACCCCADACAC</td>\n",
              "      <td>BBEDABDACACBABAECBBCCADCEBDBBCDDEEAAADDBECDECA...</td>\n",
              "      <td>NaN</td>\n",
              "      <td>1.0</td>\n",
              "      <td>80.0</td>\n",
              "      <td>100.0</td>\n",
              "      <td>80.0</td>\n",
              "      <td>80.0</td>\n",
              "      <td>60.0</td>\n",
              "      <td>400.0</td>\n",
              "      <td>C</td>\n",
              "      <td>C</td>\n",
              "      <td>A</td>\n",
              "      <td>A</td>\n",
              "      <td>4</td>\n",
              "      <td>B</td>\n",
              "      <td>A</td>\n",
              "      <td>B</td>\n",
              "      <td>C</td>\n",
              "      <td>A</td>\n",
              "      <td>A</td>\n",
              "      <td>B</td>\n",
              "      <td>B</td>\n",
              "      <td>B</td>\n",
              "      <td>A</td>\n",
              "      <td>A</td>\n",
              "      <td>A</td>\n",
              "      <td>A</td>\n",
              "      <td>B</td>\n",
              "      <td>A</td>\n",
              "      <td>A</td>\n",
              "      <td>B</td>\n",
              "      <td>A</td>\n",
              "      <td>A</td>\n",
              "      <td>B</td>\n",
              "      <td>1184.6</td>\n",
              "    </tr>\n",
              "    <tr>\n",
              "      <th>2</th>\n",
              "      <td>190001004722</td>\n",
              "      <td>2019</td>\n",
              "      <td>1501402</td>\n",
              "      <td>Belém</td>\n",
              "      <td>15</td>\n",
              "      <td>PA</td>\n",
              "      <td>35</td>\n",
              "      <td>F</td>\n",
              "      <td>2</td>\n",
              "      <td>1</td>\n",
              "      <td>1</td>\n",
              "      <td>1501402.0</td>\n",
              "      <td>Belém</td>\n",
              "      <td>15.0</td>\n",
              "      <td>PA</td>\n",
              "      <td>1</td>\n",
              "      <td>12</td>\n",
              "      <td>1</td>\n",
              "      <td>1.0</td>\n",
              "      <td>0</td>\n",
              "      <td>NaN</td>\n",
              "      <td>NaN</td>\n",
              "      <td>NaN</td>\n",
              "      <td>NaN</td>\n",
              "      <td>NaN</td>\n",
              "      <td>NaN</td>\n",
              "      <td>NaN</td>\n",
              "      <td>NaN</td>\n",
              "      <td>0</td>\n",
              "      <td>0</td>\n",
              "      <td>0</td>\n",
              "      <td>0</td>\n",
              "      <td>0</td>\n",
              "      <td>0</td>\n",
              "      <td>0</td>\n",
              "      <td>0</td>\n",
              "      <td>0</td>\n",
              "      <td>0</td>\n",
              "      <td>0</td>\n",
              "      <td>0</td>\n",
              "      <td>...</td>\n",
              "      <td>99999ECBCECEBBABECCCECECCEECCDECEEEDADDDDECEDD...</td>\n",
              "      <td>DDBEADEBBCADCEEACABECBCEBADECADCEDAACBDABABCE</td>\n",
              "      <td>1</td>\n",
              "      <td>AAECACDEADCBCDDDBCBDADAEABCEBABEEBCBEECEBDADC</td>\n",
              "      <td>CBABADBBCEEEBCBADCBEEDBBEADBBACDBBACCCCADACAC</td>\n",
              "      <td>BBEDABDACACBABAECBBCCADCEBDBBCDDEEAAADDBECDECA...</td>\n",
              "      <td>EEEADBEBACABCDBABECECACDCBDCCEDCDABEDECDDDBAA</td>\n",
              "      <td>1.0</td>\n",
              "      <td>100.0</td>\n",
              "      <td>120.0</td>\n",
              "      <td>120.0</td>\n",
              "      <td>100.0</td>\n",
              "      <td>120.0</td>\n",
              "      <td>560.0</td>\n",
              "      <td>C</td>\n",
              "      <td>A</td>\n",
              "      <td>B</td>\n",
              "      <td>B</td>\n",
              "      <td>5</td>\n",
              "      <td>C</td>\n",
              "      <td>A</td>\n",
              "      <td>B</td>\n",
              "      <td>C</td>\n",
              "      <td>A</td>\n",
              "      <td>A</td>\n",
              "      <td>B</td>\n",
              "      <td>A</td>\n",
              "      <td>B</td>\n",
              "      <td>A</td>\n",
              "      <td>A</td>\n",
              "      <td>A</td>\n",
              "      <td>A</td>\n",
              "      <td>B</td>\n",
              "      <td>A</td>\n",
              "      <td>B</td>\n",
              "      <td>B</td>\n",
              "      <td>A</td>\n",
              "      <td>A</td>\n",
              "      <td>B</td>\n",
              "      <td>2350.5</td>\n",
              "    </tr>\n",
              "    <tr>\n",
              "      <th>3</th>\n",
              "      <td>190001004735</td>\n",
              "      <td>2019</td>\n",
              "      <td>1507300</td>\n",
              "      <td>São Félix do Xingu</td>\n",
              "      <td>15</td>\n",
              "      <td>PA</td>\n",
              "      <td>23</td>\n",
              "      <td>F</td>\n",
              "      <td>1</td>\n",
              "      <td>3</td>\n",
              "      <td>1</td>\n",
              "      <td>1505437.0</td>\n",
              "      <td>Ourilândia do Norte</td>\n",
              "      <td>15.0</td>\n",
              "      <td>PA</td>\n",
              "      <td>1</td>\n",
              "      <td>7</td>\n",
              "      <td>1</td>\n",
              "      <td>NaN</td>\n",
              "      <td>0</td>\n",
              "      <td>NaN</td>\n",
              "      <td>NaN</td>\n",
              "      <td>NaN</td>\n",
              "      <td>NaN</td>\n",
              "      <td>NaN</td>\n",
              "      <td>NaN</td>\n",
              "      <td>NaN</td>\n",
              "      <td>NaN</td>\n",
              "      <td>0</td>\n",
              "      <td>0</td>\n",
              "      <td>0</td>\n",
              "      <td>0</td>\n",
              "      <td>0</td>\n",
              "      <td>0</td>\n",
              "      <td>0</td>\n",
              "      <td>0</td>\n",
              "      <td>0</td>\n",
              "      <td>0</td>\n",
              "      <td>0</td>\n",
              "      <td>0</td>\n",
              "      <td>...</td>\n",
              "      <td>99999BABCDABBCBDDAAECADBDDADDCBCEEDCAEBCEAEABD...</td>\n",
              "      <td>CBDEBBCBDEBCABCDBDEDADCCBEDBCAECEBEBDEBAEECBC</td>\n",
              "      <td>1</td>\n",
              "      <td>BEEAAEBEEBADEADDADAEABCEDDDBCBCBCCACBCDADCCEB</td>\n",
              "      <td>EEBCEEDBADBBCBABCCADCEBACDBBACCACACBEADBBADCB</td>\n",
              "      <td>ADBBEDCABAABBCBCDAAECDDDBAAAECADECDCEBDEEAECBD...</td>\n",
              "      <td>BEDEEEAADBEBACABCDBABECECACADCBDCCEDCDABECDDD</td>\n",
              "      <td>1.0</td>\n",
              "      <td>100.0</td>\n",
              "      <td>120.0</td>\n",
              "      <td>120.0</td>\n",
              "      <td>120.0</td>\n",
              "      <td>40.0</td>\n",
              "      <td>500.0</td>\n",
              "      <td>E</td>\n",
              "      <td>C</td>\n",
              "      <td>A</td>\n",
              "      <td>A</td>\n",
              "      <td>1</td>\n",
              "      <td>B</td>\n",
              "      <td>A</td>\n",
              "      <td>B</td>\n",
              "      <td>C</td>\n",
              "      <td>A</td>\n",
              "      <td>A</td>\n",
              "      <td>B</td>\n",
              "      <td>A</td>\n",
              "      <td>A</td>\n",
              "      <td>A</td>\n",
              "      <td>A</td>\n",
              "      <td>A</td>\n",
              "      <td>A</td>\n",
              "      <td>B</td>\n",
              "      <td>A</td>\n",
              "      <td>A</td>\n",
              "      <td>B</td>\n",
              "      <td>A</td>\n",
              "      <td>A</td>\n",
              "      <td>B</td>\n",
              "      <td>2555.7</td>\n",
              "    </tr>\n",
              "    <tr>\n",
              "      <th>4</th>\n",
              "      <td>190001004776</td>\n",
              "      <td>2019</td>\n",
              "      <td>1500800</td>\n",
              "      <td>Ananindeua</td>\n",
              "      <td>15</td>\n",
              "      <td>PA</td>\n",
              "      <td>16</td>\n",
              "      <td>F</td>\n",
              "      <td>1</td>\n",
              "      <td>3</td>\n",
              "      <td>1</td>\n",
              "      <td>1500800.0</td>\n",
              "      <td>Ananindeua</td>\n",
              "      <td>15.0</td>\n",
              "      <td>PA</td>\n",
              "      <td>3</td>\n",
              "      <td>0</td>\n",
              "      <td>1</td>\n",
              "      <td>NaN</td>\n",
              "      <td>1</td>\n",
              "      <td>NaN</td>\n",
              "      <td>NaN</td>\n",
              "      <td>NaN</td>\n",
              "      <td>NaN</td>\n",
              "      <td>NaN</td>\n",
              "      <td>NaN</td>\n",
              "      <td>NaN</td>\n",
              "      <td>NaN</td>\n",
              "      <td>0</td>\n",
              "      <td>0</td>\n",
              "      <td>0</td>\n",
              "      <td>0</td>\n",
              "      <td>0</td>\n",
              "      <td>0</td>\n",
              "      <td>0</td>\n",
              "      <td>0</td>\n",
              "      <td>0</td>\n",
              "      <td>0</td>\n",
              "      <td>0</td>\n",
              "      <td>0</td>\n",
              "      <td>...</td>\n",
              "      <td>EBCAB99999BBCECBCACBEACBDAABDBCBBDACEBBACDCAEC...</td>\n",
              "      <td>AECCBBCBBCBDEDECACBAABEDABBEDDADCEADDBEBDBBEB</td>\n",
              "      <td>0</td>\n",
              "      <td>DEADBAAAEBEECEBCBCBCBDADAEABCEDDDDADCBEECACBC</td>\n",
              "      <td>ACACEEBCCBABADBBBACDBBACCCCADCEBADCBEEDBBEADB</td>\n",
              "      <td>EBBADCABDABACBCEBDEEAAADDBECDECDDBADBCDAAECBCC...</td>\n",
              "      <td>AADDDBEEEBEDDBEBACABCDBABECECACAECDCBDCCEDCDA</td>\n",
              "      <td>1.0</td>\n",
              "      <td>160.0</td>\n",
              "      <td>140.0</td>\n",
              "      <td>160.0</td>\n",
              "      <td>160.0</td>\n",
              "      <td>160.0</td>\n",
              "      <td>780.0</td>\n",
              "      <td>E</td>\n",
              "      <td>E</td>\n",
              "      <td>B</td>\n",
              "      <td>D</td>\n",
              "      <td>3</td>\n",
              "      <td>E</td>\n",
              "      <td>A</td>\n",
              "      <td>B</td>\n",
              "      <td>C</td>\n",
              "      <td>B</td>\n",
              "      <td>A</td>\n",
              "      <td>B</td>\n",
              "      <td>A</td>\n",
              "      <td>A</td>\n",
              "      <td>A</td>\n",
              "      <td>A</td>\n",
              "      <td>A</td>\n",
              "      <td>A</td>\n",
              "      <td>B</td>\n",
              "      <td>A</td>\n",
              "      <td>A</td>\n",
              "      <td>D</td>\n",
              "      <td>A</td>\n",
              "      <td>A</td>\n",
              "      <td>B</td>\n",
              "      <td>2803.5</td>\n",
              "    </tr>\n",
              "  </tbody>\n",
              "</table>\n",
              "<p>5 rows × 137 columns</p>\n",
              "</div>"
            ],
            "text/plain": [
              "   NU_INSCRICAO  NU_ANO  CO_MUNICIPIO_RESIDENCIA  ... Q024  Q025 NU_NOTA_TOTAL\n",
              "0  190001004661    2019                  1506138  ...    B     B        2288.9\n",
              "1  190001004674    2019                  1504208  ...    A     B        1184.6\n",
              "2  190001004722    2019                  1501402  ...    A     B        2350.5\n",
              "3  190001004735    2019                  1507300  ...    A     B        2555.7\n",
              "4  190001004776    2019                  1500800  ...    A     B        2803.5\n",
              "\n",
              "[5 rows x 137 columns]"
            ]
          },
          "metadata": {
            "tags": []
          },
          "execution_count": 104
        }
      ]
    },
    {
      "cell_type": "markdown",
      "metadata": {
        "id": "QycP3sGF76GM"
      },
      "source": [
        "Problema: É possível prever a nota da prova de matemática baseando-se na nota das demais avaliações?"
      ]
    },
    {
      "cell_type": "markdown",
      "metadata": {
        "id": "XVhO8VIX8QaT"
      },
      "source": [
        "Primeiro, vamos separar o dataset entre dados de entrada e dados de saída."
      ]
    },
    {
      "cell_type": "code",
      "metadata": {
        "id": "bjjVPgl_8Hqi"
      },
      "source": [
        "provas_entradas = [\"NU_NOTA_CN\", \"NU_NOTA_CH\", \"NU_NOTA_LC\", \"NU_NOTA_REDACAO\"]\n",
        "provas_saida = \"NU_NOTA_MT\"\n",
        "\n",
        "dados_sem_nota_zero = dados_sem_nota_zero[provas].dropna()\n",
        "\n",
        "notas_entrada = dados_sem_nota_zero[provas_entradas]\n",
        "notas_saida = dados_sem_nota_zero[provas_saida]"
      ],
      "execution_count": 206,
      "outputs": []
    },
    {
      "cell_type": "markdown",
      "metadata": {
        "id": "TUNKVGX-8Ycc"
      },
      "source": [
        "Agora vamos dividir a base de dados entre dados de treinamento e dados de validação"
      ]
    },
    {
      "cell_type": "code",
      "metadata": {
        "id": "9dY7rPAD9Xg2"
      },
      "source": [
        "SEED = 1234\n",
        "x_treino, x_teste, y_treino, y_teste = train_test_split(notas_entrada, notas_saida, test_size=0.25, random_state=SEED)"
      ],
      "execution_count": 208,
      "outputs": []
    },
    {
      "cell_type": "markdown",
      "metadata": {
        "id": "dS-mLBmN_XyT"
      },
      "source": [
        "Agora que temos a base de dados dividida entre treinamento e validação, vamos criar modelos de regreção."
      ]
    },
    {
      "cell_type": "code",
      "metadata": {
        "id": "OtN5VJbx_Dtq"
      },
      "source": [
        "modelo_SVR = LinearSVR(random_state=SEED)\n",
        "modelo_dummy = DummyRegressor()\n",
        "modelo_arvore = DecisionTreeRegressor(max_depth=3)"
      ],
      "execution_count": 196,
      "outputs": []
    },
    {
      "cell_type": "markdown",
      "metadata": {
        "id": "GO4C6BjM_rh6"
      },
      "source": [
        "Agora é realizado o treinamento do modelo escolhido."
      ]
    },
    {
      "cell_type": "code",
      "metadata": {
        "id": "NrnJKQK4_ymD",
        "outputId": "218c3fbd-bef4-405e-968e-ff2c513f5fa1",
        "colab": {
          "base_uri": "https://localhost:8080/",
          "height": 161
        }
      },
      "source": [
        "modelo_SVR.fit(x_treino, y_treino)"
      ],
      "execution_count": 197,
      "outputs": [
        {
          "output_type": "stream",
          "text": [
            "/usr/local/lib/python3.6/dist-packages/sklearn/utils/validation.py:760: DataConversionWarning: A column-vector y was passed when a 1d array was expected. Please change the shape of y to (n_samples, ), for example using ravel().\n",
            "  y = column_or_1d(y, warn=True)\n",
            "/usr/local/lib/python3.6/dist-packages/sklearn/svm/_base.py:947: ConvergenceWarning: Liblinear failed to converge, increase the number of iterations.\n",
            "  \"the number of iterations.\", ConvergenceWarning)\n"
          ],
          "name": "stderr"
        },
        {
          "output_type": "execute_result",
          "data": {
            "text/plain": [
              "LinearSVR(C=1.0, dual=True, epsilon=0.0, fit_intercept=True,\n",
              "          intercept_scaling=1.0, loss='epsilon_insensitive', max_iter=1000,\n",
              "          random_state=1234, tol=0.0001, verbose=0)"
            ]
          },
          "metadata": {
            "tags": []
          },
          "execution_count": 197
        }
      ]
    },
    {
      "cell_type": "code",
      "metadata": {
        "id": "brEov9wdSVoa",
        "outputId": "3489e700-fc34-4b23-cc66-62a26cbab738",
        "colab": {
          "base_uri": "https://localhost:8080/",
          "height": 34
        }
      },
      "source": [
        "modelo_dummy.fit(x_treino, y_treino)"
      ],
      "execution_count": 198,
      "outputs": [
        {
          "output_type": "execute_result",
          "data": {
            "text/plain": [
              "DummyRegressor(constant=None, quantile=None, strategy='mean')"
            ]
          },
          "metadata": {
            "tags": []
          },
          "execution_count": 198
        }
      ]
    },
    {
      "cell_type": "code",
      "metadata": {
        "id": "KrtR9nonf9-Y",
        "outputId": "fb408347-6fc3-452a-bf5c-39217c4540b1",
        "colab": {
          "base_uri": "https://localhost:8080/",
          "height": 123
        }
      },
      "source": [
        "modelo_arvore.fit(x_treino, y_treino)"
      ],
      "execution_count": 199,
      "outputs": [
        {
          "output_type": "execute_result",
          "data": {
            "text/plain": [
              "DecisionTreeRegressor(ccp_alpha=0.0, criterion='mse', max_depth=3,\n",
              "                      max_features=None, max_leaf_nodes=None,\n",
              "                      min_impurity_decrease=0.0, min_impurity_split=None,\n",
              "                      min_samples_leaf=1, min_samples_split=2,\n",
              "                      min_weight_fraction_leaf=0.0, presort='deprecated',\n",
              "                      random_state=None, splitter='best')"
            ]
          },
          "metadata": {
            "tags": []
          },
          "execution_count": 199
        }
      ]
    },
    {
      "cell_type": "markdown",
      "metadata": {
        "id": "aONZnRa-CeWB"
      },
      "source": [
        "Agora vamos realizar uma predição nos modelos treinados"
      ]
    },
    {
      "cell_type": "code",
      "metadata": {
        "id": "bNXTt-zWChvC"
      },
      "source": [
        "predicoes_SVR = modelo_SVR.predict(x_teste)\n",
        "predicoes_dummy = modelo_dummy.predict(x_teste)\n",
        "predicoes_arvore = modelo_arvore.predict(x_teste)"
      ],
      "execution_count": 200,
      "outputs": []
    },
    {
      "cell_type": "markdown",
      "metadata": {
        "id": "uZgQVdywiHix"
      },
      "source": [
        "Agora vamos construir métricas para avaliar quantitativamente os modelos treinados:"
      ]
    },
    {
      "cell_type": "markdown",
      "metadata": {
        "id": "y6W5cqnYTBI_"
      },
      "source": [
        "Primeiro, vamos avaliar o modelo SVR"
      ]
    },
    {
      "cell_type": "code",
      "metadata": {
        "id": "g1cBw1X8OToB",
        "outputId": "ce5d0233-fab3-439f-8fd6-d83d677bc042",
        "colab": {
          "base_uri": "https://localhost:8080/",
          "height": 284
        }
      },
      "source": [
        "sns.scatterplot(x=predicoes, y=y_teste)"
      ],
      "execution_count": 210,
      "outputs": [
        {
          "output_type": "execute_result",
          "data": {
            "text/plain": [
              "<matplotlib.axes._subplots.AxesSubplot at 0x7f11a71ea9e8>"
            ]
          },
          "metadata": {
            "tags": []
          },
          "execution_count": 210
        },
        {
          "output_type": "display_data",
          "data": {
            "image/png": "[encoded data removed]",
            "text/plain": [
              "<Figure size 432x288 with 1 Axes>"
            ]
          },
          "metadata": {
            "tags": [],
            "needs_background": "light"
          }
        }
      ]
    },
    {
      "cell_type": "code",
      "metadata": {
        "id": "LyON5ho6Itlp",
        "outputId": "af7f4053-3b63-4717-b906-683314ebc093",
        "colab": {
          "base_uri": "https://localhost:8080/",
          "height": 34
        }
      },
      "source": [
        "resultados_SVR=pd.DataFrame()\n",
        "resultados_SVR[\"Real\"] = y_teste\n",
        "resultados_SVR[\"Previsao\"] = predicoes_SVR\n",
        "resultados_SVR[\"Diferenca\"] = resultados_SVR[\"Real\"] - resultados_SVR[\"Previsao\"]\n",
        "resultados_SVR[\"Quadrado_Diferenca\"] = (resultados_SVR[\"Real\"] - resultados_SVR[\"Previsao\"])**2\n",
        "\n",
        "resultados_SVR[\"Quadrado_Diferenca\"].mean()**(1/2)"
      ],
      "execution_count": 211,
      "outputs": [
        {
          "output_type": "execute_result",
          "data": {
            "text/plain": [
              "113.31350667922123"
            ]
          },
          "metadata": {
            "tags": []
          },
          "execution_count": 211
        }
      ]
    },
    {
      "cell_type": "code",
      "metadata": {
        "id": "jhDmG8YWTZUd",
        "outputId": "a87e5dea-bff3-4ec6-c0d5-ddb489966783",
        "colab": {
          "base_uri": "https://localhost:8080/",
          "height": 34
        }
      },
      "source": [
        "mean_squared_error(y_teste, predicoes_SVR)"
      ],
      "execution_count": 158,
      "outputs": [
        {
          "output_type": "execute_result",
          "data": {
            "text/plain": [
              "12839.950795941917"
            ]
          },
          "metadata": {
            "tags": []
          },
          "execution_count": 158
        }
      ]
    },
    {
      "cell_type": "markdown",
      "metadata": {
        "id": "fBHkeRLTTE6z"
      },
      "source": [
        "Agora vamos avaliar o modelo Dummy"
      ]
    },
    {
      "cell_type": "code",
      "metadata": {
        "id": "ihCpg5U3THvu",
        "outputId": "43abc415-30a6-458a-a3d1-b066960eaf05",
        "colab": {
          "base_uri": "https://localhost:8080/",
          "height": 34
        }
      },
      "source": [
        "mean_squared_error(y_teste, predicoes_dummy)"
      ],
      "execution_count": 160,
      "outputs": [
        {
          "output_type": "execute_result",
          "data": {
            "text/plain": [
              "11788.71263914587"
            ]
          },
          "metadata": {
            "tags": []
          },
          "execution_count": 160
        }
      ]
    },
    {
      "cell_type": "code",
      "metadata": {
        "id": "fVDRjZ5oUlgj",
        "outputId": "f6e08b66-8117-40b4-d7cb-abfe538084a0",
        "colab": {
          "base_uri": "https://localhost:8080/",
          "height": 34
        }
      },
      "source": [
        "mean_squared_error(y_teste, predicoes_dummy)**(1/2)"
      ],
      "execution_count": 161,
      "outputs": [
        {
          "output_type": "execute_result",
          "data": {
            "text/plain": [
              "108.57583819223257"
            ]
          },
          "metadata": {
            "tags": []
          },
          "execution_count": 161
        }
      ]
    },
    {
      "cell_type": "markdown",
      "metadata": {
        "id": "3GoNptQJgnw-"
      },
      "source": [
        "Avaliação do modelo baseado em arvores de decisão"
      ]
    },
    {
      "cell_type": "code",
      "metadata": {
        "id": "thnpOSCjgu3Z",
        "outputId": "356401af-71fd-4e09-935c-29a3c9192103",
        "colab": {
          "base_uri": "https://localhost:8080/",
          "height": 34
        }
      },
      "source": [
        "mean_squared_error(y_teste, predicoes_arvore)"
      ],
      "execution_count": 173,
      "outputs": [
        {
          "output_type": "execute_result",
          "data": {
            "text/plain": [
              "5993.166853528304"
            ]
          },
          "metadata": {
            "tags": []
          },
          "execution_count": 173
        }
      ]
    },
    {
      "cell_type": "code",
      "metadata": {
        "id": "4Aouuvcig0dF",
        "outputId": "12bcaf30-79c1-48c2-9947-84bfe99ca427",
        "colab": {
          "base_uri": "https://localhost:8080/",
          "height": 34
        }
      },
      "source": [
        "mean_squared_error(y_teste, predicoes_arvore)**(1/2)"
      ],
      "execution_count": 174,
      "outputs": [
        {
          "output_type": "execute_result",
          "data": {
            "text/plain": [
              "77.41554658806139"
            ]
          },
          "metadata": {
            "tags": []
          },
          "execution_count": 174
        }
      ]
    },
    {
      "cell_type": "code",
      "metadata": {
        "id": "ViUuySUejxLn"
      },
      "source": [
        "Vamos agora implementar uma forma de treinamento e validação mais robusta utilizando o Cross-Validation"
      ],
      "execution_count": null,
      "outputs": []
    },
    {
      "cell_type": "code",
      "metadata": {
        "id": "ztq08yQj0OgE"
      },
      "source": [
        "def calcula_mse(score):\n",
        "  media = (score[\"test_score\"]*-1).mean()\n",
        "  desvio_padrao = (score[\"test_score\"]*-1).std()\n",
        "  lim_inferior = media-(2*desvio_padrao)\n",
        "  limite_superior = media + (2*desvio_padrao)\n",
        "\n",
        "  print(f\"Intervalo de confianã vai de {lim_inferior} ate {limite_superior}\")"
      ],
      "execution_count": 255,
      "outputs": []
    },
    {
      "cell_type": "code",
      "metadata": {
        "id": "-UiYhiu6lk9E"
      },
      "source": [
        "modelo_SVR = LinearSVR(random_state=SEED)\n",
        "modelo_dummy = DummyRegressor()\n"
      ],
      "execution_count": 253,
      "outputs": []
    },
    {
      "cell_type": "code",
      "metadata": {
        "id": "wwAQQ9pKznw4"
      },
      "source": [
        "def regressor_arvore(nivel):\n",
        "\n",
        "  modelo_arvore = DecisionTreeRegressor(max_depth=nivel)\n",
        "\n",
        "  SEED=1234\n",
        "  np.random.seed(SEED)\n",
        "\n",
        "  partes= KFold(n_splits=10, shuffle=True)\n",
        "  score = cross_validate(modelo_arvore, x_treino, y_treino, cv=partes, scoring=\"neg_mean_squared_error\", return_train_score=True)\n",
        "  \n",
        "  print(f\"Média de cada KFold: Teste: {(score['test_score']*-1).mean()} Treino: {(score['train_score']*-1).mean()}\")\n",
        "  return score"
      ],
      "execution_count": 267,
      "outputs": []
    },
    {
      "cell_type": "markdown",
      "metadata": {
        "id": "NbmsUkzcuRcK"
      },
      "source": [
        "Cálculo dos limites inferiores e superiores para se obter um intervalo de confiança"
      ]
    },
    {
      "cell_type": "code",
      "metadata": {
        "id": "ctoS8tBEwWJ_",
        "outputId": "47a938ef-6254-4273-a4c7-0a132466b99e",
        "colab": {
          "base_uri": "https://localhost:8080/",
          "height": 158
        }
      },
      "source": [
        "for i in range(1,5):\n",
        "  score =  regressor_arvore(i)\n",
        "  calcula_mse(score)"
      ],
      "execution_count": 265,
      "outputs": [
        {
          "output_type": "stream",
          "text": [
            "Média de cada KFold: 7893.874394161263\n",
            "Intervalo de confianã vai de 7712.494436023109 ate 8075.2543522994165\n",
            "Média de cada KFold: 6574.593626360982\n",
            "Intervalo de confianã vai de 6439.828789356461 ate 6709.358463365503\n",
            "Média de cada KFold: 6065.061348721948\n",
            "Intervalo de confianã vai de 5958.660691149571 ate 6171.462006294325\n",
            "Média de cada KFold: 5837.297680755236\n",
            "Intervalo de confianã vai de 5740.154757029154 ate 5934.440604481318\n"
          ],
          "name": "stdout"
        }
      ]
    },
    {
      "cell_type": "code",
      "metadata": {
        "id": "q5etg7pz1yAp"
      },
      "source": [
        "Vamos avaliar se conforme a profundidade da árvore aumenta é possível obter um melhor desempenho do classificador."
      ],
      "execution_count": null,
      "outputs": []
    },
    {
      "cell_type": "code",
      "metadata": {
        "id": "6jOIDGVt1trv",
        "outputId": "ded2ad9d-fd8d-48d4-da0e-1790e01468bf",
        "colab": {
          "base_uri": "https://localhost:8080/",
          "height": 354
        }
      },
      "source": [
        "for i in range(1,20):\n",
        "  regressor_arvore(i)"
      ],
      "execution_count": 270,
      "outputs": [
        {
          "output_type": "stream",
          "text": [
            "Média de cada KFold: Teste: 7893.874394161263 Treino: 7885.453547490273\n",
            "Média de cada KFold: Teste: 6574.593626360982 Treino: 6553.784183823407\n",
            "Média de cada KFold: Teste: 6065.061348721948 Treino: 6038.914371525696\n",
            "Média de cada KFold: Teste: 5837.297680755236 Treino: 5777.2047261458265\n",
            "Média de cada KFold: Teste: 5704.193949892853 Treino: 5607.751640730485\n",
            "Média de cada KFold: Teste: 5606.4871685861035 Treino: 5471.273495257777\n",
            "Média de cada KFold: Teste: 5574.910502578573 Treino: 5364.816951423703\n",
            "Média de cada KFold: Teste: 5601.158289712913 Treino: 5259.003524257887\n",
            "Média de cada KFold: Teste: 5692.085586728081 Treino: 5132.361729975941\n",
            "Média de cada KFold: Teste: 5844.957884068245 Treino: 4964.541740824619\n",
            "Média de cada KFold: Teste: 6078.754339347143 Treino: 4753.3901918543725\n",
            "Média de cada KFold: Teste: 6344.2845359376715 Treino: 4496.6386531228345\n",
            "Média de cada KFold: Teste: 6667.047753313125 Treino: 4202.715714627228\n",
            "Média de cada KFold: Teste: 7005.726943914623 Treino: 3874.4044074544618\n",
            "Média de cada KFold: Teste: 7384.058145617275 Treino: 3523.799919899962\n",
            "Média de cada KFold: Teste: 7783.564423883008 Treino: 3160.217027910653\n",
            "Média de cada KFold: Teste: 8168.892025464232 Treino: 2794.5461740693127\n",
            "Média de cada KFold: Teste: 8554.42776042493 Treino: 2443.6156748082813\n",
            "Média de cada KFold: Teste: 8905.989673818343 Treino: 2112.9243569130895\n"
          ],
          "name": "stdout"
        }
      ]
    },
    {
      "cell_type": "markdown",
      "metadata": {
        "id": "f-zXIOU317tY"
      },
      "source": [
        "Observamos que conforme a profundidade da arvore fica muito grande, existe uma melhora significativa no score dos dados de treinamento, enquanto que os dados de teste apresentam uma queda de desempenho significativa. Isto é um indicativo de que o regressor está com overffiting, ou seja, ele se adaptou demais aos dados de treinamento e com isso não consegue prever corretametne os dados do conjunto de teste."
      ]
    }
  ]
}